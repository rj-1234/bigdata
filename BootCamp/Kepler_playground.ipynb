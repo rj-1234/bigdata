{
 "cells": [
  {
   "cell_type": "code",
   "execution_count": 1,
   "metadata": {
    "ExecuteTime": {
     "end_time": "2019-06-28T03:29:57.909760Z",
     "start_time": "2019-06-28T03:29:57.787167Z"
    },
    "cell_style": "center"
   },
   "outputs": [
    {
     "name": "stdout",
     "output_type": "stream",
     "text": [
      "Python 3.7.3\r\n"
     ]
    }
   ],
   "source": [
    "! python --version"
   ]
  },
  {
   "cell_type": "code",
   "execution_count": 2,
   "metadata": {
    "ExecuteTime": {
     "end_time": "2019-06-28T03:29:58.987202Z",
     "start_time": "2019-06-28T03:29:58.602096Z"
    }
   },
   "outputs": [],
   "source": [
    "import pandas as pd\n",
    "import geopandas"
   ]
  },
  {
   "cell_type": "code",
   "execution_count": 3,
   "metadata": {
    "ExecuteTime": {
     "end_time": "2019-06-28T03:29:59.563775Z",
     "start_time": "2019-06-28T03:29:59.547962Z"
    }
   },
   "outputs": [],
   "source": [
    "df = pd.DataFrame(\n",
    "    {'City': ['Buenos Aires', 'Brasilia', 'Santiago', 'Bogota', 'Caracas'],\n",
    "     'Country': ['Argentina', 'Brazil', 'Chile', 'Colombia', 'Venezuela'],\n",
    "     'Latitude': [-34.58, -15.78, -33.45, 4.60, 10.48],\n",
    "     'Longitude': [-58.66, -47.91, -70.66, -74.08, -66.86]})"
   ]
  },
  {
   "cell_type": "code",
   "execution_count": 4,
   "metadata": {
    "ExecuteTime": {
     "end_time": "2019-06-28T03:30:00.345633Z",
     "start_time": "2019-06-28T03:30:00.338023Z"
    }
   },
   "outputs": [],
   "source": [
    "point_gdf = geopandas.GeoDataFrame(df, geometry=geopandas.points_from_xy(df.Longitude, df.Latitude))"
   ]
  },
  {
   "cell_type": "code",
   "execution_count": 5,
   "metadata": {
    "ExecuteTime": {
     "end_time": "2019-06-28T03:30:03.451564Z",
     "start_time": "2019-06-28T03:30:01.276591Z"
    },
    "cell_style": "center"
   },
   "outputs": [],
   "source": [
    "url = \"http://eric.clst.org/assets/wiki/uploads/Stuff/gz_2010_us_040_00_500k.json\"\n",
    "country_gdf = geopandas.read_file(url)\n"
   ]
  },
  {
   "cell_type": "code",
   "execution_count": 6,
   "metadata": {
    "ExecuteTime": {
     "end_time": "2019-06-28T03:30:03.535826Z",
     "start_time": "2019-06-28T03:30:03.456900Z"
    },
    "cell_style": "center",
    "scrolled": true
   },
   "outputs": [
    {
     "data": {
      "text/html": [
       "<div>\n",
       "<style scoped>\n",
       "    .dataframe tbody tr th:only-of-type {\n",
       "        vertical-align: middle;\n",
       "    }\n",
       "\n",
       "    .dataframe tbody tr th {\n",
       "        vertical-align: top;\n",
       "    }\n",
       "\n",
       "    .dataframe thead th {\n",
       "        text-align: right;\n",
       "    }\n",
       "</style>\n",
       "<table border=\"1\" class=\"dataframe\">\n",
       "  <thead>\n",
       "    <tr style=\"text-align: right;\">\n",
       "      <th></th>\n",
       "      <th>GEO_ID</th>\n",
       "      <th>STATE</th>\n",
       "      <th>NAME</th>\n",
       "      <th>LSAD</th>\n",
       "      <th>CENSUSAREA</th>\n",
       "      <th>geometry</th>\n",
       "    </tr>\n",
       "  </thead>\n",
       "  <tbody>\n",
       "    <tr>\n",
       "      <th>0</th>\n",
       "      <td>0400000US23</td>\n",
       "      <td>23</td>\n",
       "      <td>Maine</td>\n",
       "      <td></td>\n",
       "      <td>30842.923</td>\n",
       "      <td>(POLYGON ((-67.619761 44.519754, -67.61541 44....</td>\n",
       "    </tr>\n",
       "    <tr>\n",
       "      <th>1</th>\n",
       "      <td>0400000US25</td>\n",
       "      <td>25</td>\n",
       "      <td>Massachusetts</td>\n",
       "      <td></td>\n",
       "      <td>7800.058</td>\n",
       "      <td>(POLYGON ((-70.832044 41.606504, -70.823735 41...</td>\n",
       "    </tr>\n",
       "    <tr>\n",
       "      <th>2</th>\n",
       "      <td>0400000US26</td>\n",
       "      <td>26</td>\n",
       "      <td>Michigan</td>\n",
       "      <td></td>\n",
       "      <td>56538.901</td>\n",
       "      <td>(POLYGON ((-88.684434 48.115785, -88.675628 48...</td>\n",
       "    </tr>\n",
       "    <tr>\n",
       "      <th>3</th>\n",
       "      <td>0400000US30</td>\n",
       "      <td>30</td>\n",
       "      <td>Montana</td>\n",
       "      <td></td>\n",
       "      <td>145545.801</td>\n",
       "      <td>POLYGON ((-104.057698 44.997431, -104.250145 4...</td>\n",
       "    </tr>\n",
       "    <tr>\n",
       "      <th>4</th>\n",
       "      <td>0400000US32</td>\n",
       "      <td>32</td>\n",
       "      <td>Nevada</td>\n",
       "      <td></td>\n",
       "      <td>109781.180</td>\n",
       "      <td>POLYGON ((-114.0506 37.000396, -114.049995 36....</td>\n",
       "    </tr>\n",
       "  </tbody>\n",
       "</table>\n",
       "</div>"
      ],
      "text/plain": [
       "        GEO_ID STATE           NAME LSAD  CENSUSAREA  \\\n",
       "0  0400000US23    23          Maine        30842.923   \n",
       "1  0400000US25    25  Massachusetts         7800.058   \n",
       "2  0400000US26    26       Michigan        56538.901   \n",
       "3  0400000US30    30        Montana       145545.801   \n",
       "4  0400000US32    32         Nevada       109781.180   \n",
       "\n",
       "                                            geometry  \n",
       "0  (POLYGON ((-67.619761 44.519754, -67.61541 44....  \n",
       "1  (POLYGON ((-70.832044 41.606504, -70.823735 41...  \n",
       "2  (POLYGON ((-88.684434 48.115785, -88.675628 48...  \n",
       "3  POLYGON ((-104.057698 44.997431, -104.250145 4...  \n",
       "4  POLYGON ((-114.0506 37.000396, -114.049995 36....  "
      ]
     },
     "metadata": {},
     "output_type": "display_data"
    }
   ],
   "source": [
    "display(country_gdf.head(5))"
   ]
  },
  {
   "cell_type": "code",
   "execution_count": 7,
   "metadata": {
    "ExecuteTime": {
     "end_time": "2019-06-28T03:30:04.302870Z",
     "start_time": "2019-06-28T03:30:04.230113Z"
    }
   },
   "outputs": [],
   "source": [
    "import keplergl\n"
   ]
  },
  {
   "cell_type": "code",
   "execution_count": 8,
   "metadata": {
    "ExecuteTime": {
     "end_time": "2019-06-28T03:30:04.990462Z",
     "start_time": "2019-06-28T03:30:04.973282Z"
    }
   },
   "outputs": [
    {
     "name": "stdout",
     "output_type": "stream",
     "text": [
      "User Guide: https://github.com/keplergl/kepler.gl/blob/master/docs/keplergl-jupyter/user-guide.md\n"
     ]
    }
   ],
   "source": [
    "w1 = keplergl.KeplerGl(height=600)"
   ]
  },
  {
   "cell_type": "code",
   "execution_count": 9,
   "metadata": {
    "ExecuteTime": {
     "end_time": "2019-06-28T03:30:06.294735Z",
     "start_time": "2019-06-28T03:30:06.289975Z"
    }
   },
   "outputs": [
    {
     "data": {
      "application/vnd.jupyter.widget-view+json": {
       "model_id": "422c5fa489d14232bfd09aa08f059cb6",
       "version_major": 2,
       "version_minor": 0
      },
      "text/plain": [
       "KeplerGl(height=600)"
      ]
     },
     "metadata": {},
     "output_type": "display_data"
    }
   ],
   "source": [
    "w1"
   ]
  },
  {
   "cell_type": "code",
   "execution_count": 10,
   "metadata": {
    "ExecuteTime": {
     "end_time": "2019-06-28T03:30:30.601271Z",
     "start_time": "2019-06-28T03:30:30.596081Z"
    }
   },
   "outputs": [],
   "source": [
    "w1.add_data(data=point_gdf, name=\"cities\")"
   ]
  },
  {
   "cell_type": "code",
   "execution_count": 11,
   "metadata": {
    "ExecuteTime": {
     "end_time": "2019-06-28T03:30:32.874379Z",
     "start_time": "2019-06-28T03:30:32.526674Z"
    }
   },
   "outputs": [],
   "source": [
    "w1.add_data(data=country_gdf, name='us_state')"
   ]
  },
  {
   "cell_type": "code",
   "execution_count": 12,
   "metadata": {
    "ExecuteTime": {
     "end_time": "2019-06-28T03:30:41.757832Z",
     "start_time": "2019-06-28T03:30:41.699460Z"
    }
   },
   "outputs": [
    {
     "name": "stdout",
     "output_type": "stream",
     "text": [
      "Map saved to city_map.html!\n"
     ]
    }
   ],
   "source": [
    "w1.save_to_html(file_name='city_map.html', read_only=True)"
   ]
  },
  {
   "cell_type": "code",
   "execution_count": 13,
   "metadata": {
    "ExecuteTime": {
     "end_time": "2019-06-28T03:30:44.082093Z",
     "start_time": "2019-06-28T03:30:44.075290Z"
    }
   },
   "outputs": [],
   "source": [
    "df = pd.DataFrame(\n",
    "    {'City': ['Buenos Aires', 'Brasilia', 'Santiago', 'Bogota', 'Caracas'],\n",
    "     'Country': ['Argentina', 'Brazil', 'Chile', 'Colombia', 'Venezuela'],\n",
    "     'Latitude': [-34.58, -15.78, -33.45, 4.60, 10.48],\n",
    "     'Longitude': [-58.66, -47.91, -70.66, -74.08, -66.86]})"
   ]
  },
  {
   "cell_type": "code",
   "execution_count": 14,
   "metadata": {
    "ExecuteTime": {
     "end_time": "2019-06-28T03:30:45.734040Z",
     "start_time": "2019-06-28T03:30:45.722694Z"
    }
   },
   "outputs": [],
   "source": [
    "config = {\n",
    "    \"version\": \"v1\",\n",
    "    \"config\": {\n",
    "        \"visState\": {\n",
    "            \"layers\": [\n",
    "                {\n",
    "                    \"type\": \"point\",\n",
    "                    \"config\": {\n",
    "                        \"dataId\": \"city\",\n",
    "                        \"isVisible\": True,\n",
    "                        \"columns\": {\n",
    "                            \"altitude\": None,\n",
    "                            \"lat\": \"Latitude\",\n",
    "                            \"lng\": \"Longitude\"\n",
    "                        },\n",
    "                        \"color\": [165, 16, 55],\n",
    "                        \"visConfig\": {\n",
    "                            \"radius\": 64.4\n",
    "                        },\n",
    "                        \"textLabel\": {\n",
    "                            \"field\": {\"name\": \"City\", \"type\": \"string\"}\n",
    "                        }\n",
    "                    }\n",
    "                }\n",
    "            ]\n",
    "        }\n",
    "    }\n",
    "}"
   ]
  },
  {
   "cell_type": "code",
   "execution_count": 15,
   "metadata": {
    "ExecuteTime": {
     "end_time": "2019-06-28T03:30:47.579184Z",
     "start_time": "2019-06-28T03:30:47.568681Z"
    }
   },
   "outputs": [
    {
     "name": "stdout",
     "output_type": "stream",
     "text": [
      "User Guide: https://github.com/keplergl/kepler.gl/blob/master/docs/keplergl-jupyter/user-guide.md\n"
     ]
    },
    {
     "data": {
      "application/vnd.jupyter.widget-view+json": {
       "model_id": "7a43d0a273c94fb2ad9b8354c5084767",
       "version_major": 2,
       "version_minor": 0
      },
      "text/plain": [
       "KeplerGl(config={'version': 'v1', 'config': {'visState': {'layers': [{'type': 'point', 'config': {'dataId': 'c…"
      ]
     },
     "metadata": {},
     "output_type": "display_data"
    }
   ],
   "source": [
    "w2 = keplergl.KeplerGl(height=500, data={\"city\": df}, config=config)\n",
    "w2"
   ]
  },
  {
   "cell_type": "code",
   "execution_count": 12,
   "metadata": {
    "ExecuteTime": {
     "end_time": "2019-06-28T02:32:06.305129Z",
     "start_time": "2019-06-28T02:32:06.193335Z"
    }
   },
   "outputs": [
    {
     "name": "stdout",
     "output_type": "stream",
     "text": [
      "Python 3.7.3\r\n"
     ]
    }
   ],
   "source": [
    "!python --version"
   ]
  },
  {
   "cell_type": "code",
   "execution_count": null,
   "metadata": {},
   "outputs": [],
   "source": []
  }
 ],
 "metadata": {
  "gist": {
   "data": {
    "description": "Actual_notebooks/BootCamp/Kepler_playground.ipynb",
    "public": false
   },
   "id": ""
  },
  "kernelspec": {
   "display_name": "Python 3",
   "language": "python",
   "name": "python3"
  },
  "language_info": {
   "codemirror_mode": {
    "name": "ipython",
    "version": 3
   },
   "file_extension": ".py",
   "mimetype": "text/x-python",
   "name": "python",
   "nbconvert_exporter": "python",
   "pygments_lexer": "ipython3",
   "version": "3.7.3"
  },
  "toc": {
   "base_numbering": 1,
   "nav_menu": {
    "height": "127px",
    "width": "263px"
   },
   "number_sections": true,
   "sideBar": true,
   "skip_h1_title": false,
   "title_cell": "Table of Contents",
   "title_sidebar": "Contents",
   "toc_cell": false,
   "toc_position": {},
   "toc_section_display": true,
   "toc_window_display": false
  }
 },
 "nbformat": 4,
 "nbformat_minor": 2
}
