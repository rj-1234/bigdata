{
 "cells": [
  {
   "cell_type": "code",
   "execution_count": 1,
   "metadata": {
    "ExecuteTime": {
     "end_time": "2019-06-29T17:08:15.056818Z",
     "start_time": "2019-06-29T17:08:14.582156Z"
    }
   },
   "outputs": [
    {
     "name": "stdout",
     "output_type": "stream",
     "text": [
      "User Guide: https://github.com/keplergl/kepler.gl/blob/master/docs/keplergl-jupyter/user-guide.md\n"
     ]
    }
   ],
   "source": [
    "import geopandas\n",
    "import keplergl\n",
    "w1 = keplergl.KeplerGl(height=600)"
   ]
  },
  {
   "cell_type": "code",
   "execution_count": 2,
   "metadata": {
    "ExecuteTime": {
     "end_time": "2019-06-29T17:08:15.064806Z",
     "start_time": "2019-06-29T17:08:15.058584Z"
    }
   },
   "outputs": [
    {
     "data": {
      "application/vnd.jupyter.widget-view+json": {
       "model_id": "1e73c46bece840509ee14cbaf7f773cd",
       "version_major": 2,
       "version_minor": 0
      },
      "text/plain": [
       "KeplerGl(height=600)"
      ]
     },
     "metadata": {},
     "output_type": "display_data"
    }
   ],
   "source": [
    "w1"
   ]
  },
  {
   "cell_type": "markdown",
   "metadata": {},
   "source": [
    "# Dataframes\n",
    "\n",
    "Apache Spark&trade; allow you to use DataFrames to query large data files.\n",
    "\n",
    "## In this lesson you:\n",
    "* Learn about Spark DataFrames.\n",
    "* Query large files using Spark DataFrames.\n",
    "* Visualize query results using charts.\n",
    "\n"
   ]
  },
  {
   "cell_type": "markdown",
   "metadata": {},
   "source": [
    "### Introducing DataFrames\n",
    "\n",
    "Under the covers, DataFrames are derived from data structures known as Resilient Distributed Datasets (RDDs). RDDs and DataFrames are immutable distributed collections of data. Let's take a closer look at what some of these terms mean before we understand how they relate to DataFrames:\n",
    "\n",
    "* **Resilient**: They are fault tolerant, so if part of your operation fails, Spark  quickly recovers the lost computation.\n",
    "* **Distributed**: RDDs are distributed across networked machines known as a cluster.\n",
    "* **DataFrame**: A data structure where data is organized into named columns, like a table in a relational database, but with richer optimizations under the hood. \n",
    "\n",
    "Without the named columns and declared types provided by a schema, Spark wouldn't know how to optimize the executation of any computation. Since DataFrames have a schema, they use the Catalyst Optimizer to determine the optimal way to execute your code.\n",
    "\n",
    "DataFrames were invented because the business community uses tables in a relational database, Pandas or R DataFrames, or Excel worksheets. A Spark DataFrame is conceptually equivalent to these, with richer optimizations under the hood and the benefit of being distributed across a cluster."
   ]
  },
  {
   "cell_type": "markdown",
   "metadata": {},
   "source": [
    "#### Interacting with DataFrames\n",
    "\n",
    "Once created (instantiated), a DataFrame object has methods attached to it. Methods are operations one can perform on DataFrames such as filtering,\n",
    "counting, aggregating and many others.\n",
    "\n",
    "> <b>Example</b>: To create (instantiate) a DataFrame, use this syntax: `df = ...`\n",
    "\n",
    "To display the contents of the DataFrame, apply a `show` operation (method) on it using the syntax `df.show()`. \n",
    "\n",
    "The `.` indicates you are *applying a method on the object*.\n",
    "\n",
    "In working with DataFrames, it is common to chain operations together, such as: `df.select().filter().orderBy()`.  \n",
    "\n",
    "By chaining operations together, you don't need to save intermediate DataFrames into local variables (thereby avoiding the creation of extra objects).\n",
    "\n",
    "Also note that you do not have to worry about how to order operations because the optimizier determines the optimal order of execution of the operations for you.\n",
    "\n",
    "`df.select(...).orderBy(...).filter(...)`\n",
    "\n",
    "versus\n",
    "\n",
    "`df.filter(...).select(...).orderBy(...)`"
   ]
  },
  {
   "cell_type": "markdown",
   "metadata": {},
   "source": [
    "#### DataFrames and SQL\n",
    "\n",
    "DataFrame syntax is more flexible than SQL syntax. Here we illustrate general usage patterns of SQL and DataFrames.\n",
    "\n",
    "Suppose we have a data set we loaded as a table called `myTable` and an equivalent DataFrame, called `df`.\n",
    "We have three fields/columns called `col_1` (numeric type), `col_2` (string type) and `col_3` (timestamp type)\n",
    "Here are basic SQL operations and their DataFrame equivalents. \n",
    "\n",
    "Notice that columns in DataFrames are referenced by `col(\"<columnName>\")`.\n",
    "\n",
    "| SQL                                         | DataFrame (Python)                    |\n",
    "| ------------------------------------------- | ------------------------------------- | \n",
    "| `SELECT col_1 FROM myTable`                 | `df.select(col(\"col_1\"))`             | \n",
    "| `DESCRIBE myTable`                          | `df.printSchema()`                    | \n",
    "| `SELECT * FROM myTable WHERE col_1 > 0`     | `df.filter(col(\"col_1\") > 0)`         | \n",
    "| `..GROUP BY col_2`                          | `..groupBy(col(\"col_2\"))`             | \n",
    "| `..ORDER BY col_2`                          | `..orderBy(col(\"col_2\"))`             | \n",
    "| `..WHERE year(col_3) > 1990`                | `..filter(year(col(\"col_3\")) > 1990)` | \n",
    "| `SELECT * FROM myTable LIMIT 10`            | `df.limit(10)`                        |\n",
    "| `display(myTable)` (text format)            | `df.show()`                           | \n",
    "| `display(myTable)` (html format)            | `display(df)`                         |\n",
    "\n",
    "**Hint:** You can also run SQL queries with the special syntax `spark.sql(\"SELECT * FROM myTable\")`\n",
    "\n",
    "In this course you see many other usages of DataFrames. It is left up to you to figure out the SQL equivalents \n",
    "(left as exercises in some cases)."
   ]
  },
  {
   "cell_type": "markdown",
   "metadata": {},
   "source": [
    "### Start Spark context\n",
    "First thing first, let's create the sparkContext, if you don't understand this part, don't worry. We'll cover this in greater details in future lessons."
   ]
  },
  {
   "cell_type": "code",
   "execution_count": 3,
   "metadata": {
    "ExecuteTime": {
     "end_time": "2019-06-29T17:08:16.017632Z",
     "start_time": "2019-06-29T17:08:15.066803Z"
    },
    "scrolled": true
   },
   "outputs": [
    {
     "data": {
      "text/html": [
       "        <script type=\"text/javascript\">\n",
       "        window.PlotlyConfig = {MathJaxConfig: 'local'};\n",
       "        if (window.MathJax) {MathJax.Hub.Config({SVG: {font: \"STIX-Web\"}});}\n",
       "        if (typeof require !== 'undefined') {\n",
       "        require.undef(\"plotly\");\n",
       "        requirejs.config({\n",
       "            paths: {\n",
       "                'plotly': ['https://cdn.plot.ly/plotly-latest.min']\n",
       "            }\n",
       "        });\n",
       "        require(['plotly'], function(Plotly) {\n",
       "            window._Plotly = Plotly;\n",
       "        });\n",
       "        }\n",
       "        </script>\n",
       "        "
      ]
     },
     "metadata": {},
     "output_type": "display_data"
    },
    {
     "name": "stdout",
     "output_type": "stream",
     "text": [
      "Stopped a SparkSession\n",
      "Spark Session Started\n"
     ]
    }
   ],
   "source": [
    "MODE = \"LOCAL\"\n",
    "# MODE = \"CLUSTER\"\n",
    "\n",
    "import sys\n",
    "from pyspark.sql import SparkSession\n",
    "from pyspark import SparkConf\n",
    "import os\n",
    "from pyspark.sql import SparkSession\n",
    "from pyspark.sql import Row\n",
    "from pyspark import SparkConf\n",
    "from pyspark.sql.types import *\n",
    "from pyspark.sql import functions as F\n",
    "from pyspark.storagelevel import StorageLevel\n",
    "import json\n",
    "import math\n",
    "import numbers\n",
    "import numpy as np\n",
    "import plotly\n",
    "\n",
    "plotly.offline.init_notebook_mode(connected=True)\n",
    "\n",
    "try:\n",
    "    spark.stop()\n",
    "    print(\"Stopped a SparkSession\")\n",
    "except Exception as e:\n",
    "    print(\"No existing SparkSession\")\n",
    "\n",
    "conf = None\n",
    "if MODE == \"LOCAL\":\n",
    "    conf = SparkConf().\\\n",
    "            setAppName(\"pyspark_day01_dataframe\").\\\n",
    "            setMaster('local[*]').\\\n",
    "            set(\"spark.ui.port\", \"4040\").\\\n",
    "            set(\"spark.scheduler.mode\", \"FAIR\")\n",
    "\n",
    "\n",
    "spark = SparkSession.builder.\\\n",
    "    config(conf=conf).\\\n",
    "    getOrCreate()\n",
    "\n",
    "sc = spark.sparkContext\n",
    "\n",
    "\n",
    "def display(df, limit=10):\n",
    "    return df.limit(limit).toPandas()\n",
    "\n",
    "\n",
    "def dfTest(id, expected, result):\n",
    "    assert str(expected) == str(\n",
    "        result), \"{} does not equal expected {}\".format(result, expected)\n",
    "\n",
    "\n",
    "print('Spark Session Started')"
   ]
  },
  {
   "cell_type": "code",
   "execution_count": 4,
   "metadata": {
    "ExecuteTime": {
     "end_time": "2019-06-29T17:08:16.034071Z",
     "start_time": "2019-06-29T17:08:16.019908Z"
    }
   },
   "outputs": [
    {
     "data": {
      "text/html": [
       "\n",
       "            <div>\n",
       "                <p><b>SparkSession - hive</b></p>\n",
       "                \n",
       "        <div>\n",
       "            <p><b>SparkContext</b></p>\n",
       "\n",
       "            <p><a href=\"http://bb4776f4c831:4040\">Spark UI</a></p>\n",
       "\n",
       "            <dl>\n",
       "              <dt>Version</dt>\n",
       "                <dd><code>v2.4.3</code></dd>\n",
       "              <dt>Master</dt>\n",
       "                <dd><code>local[*]</code></dd>\n",
       "              <dt>AppName</dt>\n",
       "                <dd><code>pyspark_day01_dataframe</code></dd>\n",
       "            </dl>\n",
       "        </div>\n",
       "        \n",
       "            </div>\n",
       "        "
      ],
      "text/plain": [
       "<pyspark.sql.session.SparkSession at 0x7fdfe94b80b8>"
      ]
     },
     "execution_count": 4,
     "metadata": {},
     "output_type": "execute_result"
    }
   ],
   "source": [
    "spark"
   ]
  },
  {
   "cell_type": "markdown",
   "metadata": {},
   "source": [
    "### Querying Data \n",
    "This lesson uses the `people-10m` data set, which is in Parquet format.\n",
    "\n",
    "The data is fictitious; in particular, the Social Security numbers are fake."
   ]
  },
  {
   "cell_type": "markdown",
   "metadata": {},
   "source": [
    "Run the command below to see the contents of the `people-10m.parquet` file."
   ]
  },
  {
   "cell_type": "code",
   "execution_count": 5,
   "metadata": {
    "ExecuteTime": {
     "end_time": "2019-06-29T17:08:16.604777Z",
     "start_time": "2019-06-29T17:08:16.037522Z"
    }
   },
   "outputs": [
    {
     "name": "stdout",
     "output_type": "stream",
     "text": [
      "'2013-07 - Citi Bike trip data.csv'  '2013-12 - Citi Bike trip data.csv'\r\n",
      "'2013-08 - Citi Bike trip data.csv'   201307-201402-citibike-tripdata.zip\r\n",
      "'2013-09 - Citi Bike trip data.csv'  '2014-01 - Citi Bike trip data.csv'\r\n",
      "'2013-10 - Citi Bike trip data.csv'  '2014-02 - Citi Bike trip data.csv'\r\n",
      "'2013-11 - Citi Bike trip data.csv'\r\n"
     ]
    }
   ],
   "source": [
    "! ls ../Data/ny-citibike-trip/"
   ]
  },
  {
   "cell_type": "code",
   "execution_count": 6,
   "metadata": {
    "ExecuteTime": {
     "end_time": "2019-06-29T17:08:19.953598Z",
     "start_time": "2019-06-29T17:08:16.606390Z"
    }
   },
   "outputs": [],
   "source": [
    "ny_citibike_trip_path = \"../Data/ny-citibike-trip/201*-* - Citi Bike trip data.csv\"\n",
    "nyCitibikeTripDF = spark.read.option(\"header\", \"true\").csv(ny_citibike_trip_path)"
   ]
  },
  {
   "cell_type": "code",
   "execution_count": 7,
   "metadata": {
    "ExecuteTime": {
     "end_time": "2019-06-29T17:08:20.208624Z",
     "start_time": "2019-06-29T17:08:19.955567Z"
    }
   },
   "outputs": [
    {
     "data": {
      "text/html": [
       "<div>\n",
       "<style scoped>\n",
       "    .dataframe tbody tr th:only-of-type {\n",
       "        vertical-align: middle;\n",
       "    }\n",
       "\n",
       "    .dataframe tbody tr th {\n",
       "        vertical-align: top;\n",
       "    }\n",
       "\n",
       "    .dataframe thead th {\n",
       "        text-align: right;\n",
       "    }\n",
       "</style>\n",
       "<table border=\"1\" class=\"dataframe\">\n",
       "  <thead>\n",
       "    <tr style=\"text-align: right;\">\n",
       "      <th></th>\n",
       "      <th>tripduration</th>\n",
       "      <th>starttime</th>\n",
       "      <th>stoptime</th>\n",
       "      <th>start station id</th>\n",
       "      <th>start station name</th>\n",
       "      <th>start station latitude</th>\n",
       "      <th>start station longitude</th>\n",
       "      <th>end station id</th>\n",
       "      <th>end station name</th>\n",
       "      <th>end station latitude</th>\n",
       "      <th>end station longitude</th>\n",
       "      <th>bikeid</th>\n",
       "      <th>usertype</th>\n",
       "      <th>birth year</th>\n",
       "      <th>gender</th>\n",
       "    </tr>\n",
       "  </thead>\n",
       "  <tbody>\n",
       "    <tr>\n",
       "      <th>0</th>\n",
       "      <td>504</td>\n",
       "      <td>2013-11-01 00:00:17</td>\n",
       "      <td>2013-11-01 00:08:41</td>\n",
       "      <td>326</td>\n",
       "      <td>E 11 St &amp; 1 Ave</td>\n",
       "      <td>40.72953837</td>\n",
       "      <td>-73.98426726</td>\n",
       "      <td>349</td>\n",
       "      <td>Rivington St &amp; Ridge St</td>\n",
       "      <td>40.71850211</td>\n",
       "      <td>-73.98329859</td>\n",
       "      <td>16393</td>\n",
       "      <td>Subscriber</td>\n",
       "      <td>1983</td>\n",
       "      <td>2</td>\n",
       "    </tr>\n",
       "    <tr>\n",
       "      <th>1</th>\n",
       "      <td>747</td>\n",
       "      <td>2013-11-01 00:00:20</td>\n",
       "      <td>2013-11-01 00:12:47</td>\n",
       "      <td>375</td>\n",
       "      <td>Mercer St &amp; Bleecker St</td>\n",
       "      <td>40.72679454</td>\n",
       "      <td>-73.99695094</td>\n",
       "      <td>504</td>\n",
       "      <td>1 Ave &amp; E 15 St</td>\n",
       "      <td>40.73221853</td>\n",
       "      <td>-73.98165557</td>\n",
       "      <td>18244</td>\n",
       "      <td>Subscriber</td>\n",
       "      <td>1971</td>\n",
       "      <td>1</td>\n",
       "    </tr>\n",
       "    <tr>\n",
       "      <th>2</th>\n",
       "      <td>1005</td>\n",
       "      <td>2013-11-01 00:00:30</td>\n",
       "      <td>2013-11-01 00:17:15</td>\n",
       "      <td>264</td>\n",
       "      <td>Maiden Ln &amp; Pearl St</td>\n",
       "      <td>40.70706456</td>\n",
       "      <td>-74.00731853</td>\n",
       "      <td>265</td>\n",
       "      <td>Stanton St &amp; Chrystie St</td>\n",
       "      <td>40.72229346</td>\n",
       "      <td>-73.99147535</td>\n",
       "      <td>14636</td>\n",
       "      <td>Customer</td>\n",
       "      <td>\\N</td>\n",
       "      <td>0</td>\n",
       "    </tr>\n",
       "    <tr>\n",
       "      <th>3</th>\n",
       "      <td>622</td>\n",
       "      <td>2013-11-01 00:01:29</td>\n",
       "      <td>2013-11-01 00:11:51</td>\n",
       "      <td>472</td>\n",
       "      <td>E 32 St &amp; Park Ave</td>\n",
       "      <td>40.7457121</td>\n",
       "      <td>-73.98194829</td>\n",
       "      <td>174</td>\n",
       "      <td>E 25 St &amp; 1 Ave</td>\n",
       "      <td>40.7381765</td>\n",
       "      <td>-73.97738662</td>\n",
       "      <td>16685</td>\n",
       "      <td>Subscriber</td>\n",
       "      <td>1980</td>\n",
       "      <td>1</td>\n",
       "    </tr>\n",
       "    <tr>\n",
       "      <th>4</th>\n",
       "      <td>1454</td>\n",
       "      <td>2013-11-01 00:01:37</td>\n",
       "      <td>2013-11-01 00:25:51</td>\n",
       "      <td>293</td>\n",
       "      <td>Lafayette St &amp; E 8 St</td>\n",
       "      <td>40.73028666</td>\n",
       "      <td>-73.9907647</td>\n",
       "      <td>490</td>\n",
       "      <td>8 Ave &amp; W 33 St</td>\n",
       "      <td>40.751551</td>\n",
       "      <td>-73.993934</td>\n",
       "      <td>18055</td>\n",
       "      <td>Subscriber</td>\n",
       "      <td>1975</td>\n",
       "      <td>2</td>\n",
       "    </tr>\n",
       "    <tr>\n",
       "      <th>5</th>\n",
       "      <td>1991</td>\n",
       "      <td>2013-11-01 00:01:53</td>\n",
       "      <td>2013-11-01 00:35:04</td>\n",
       "      <td>358</td>\n",
       "      <td>Christopher St &amp; Greenwich St</td>\n",
       "      <td>40.73291553</td>\n",
       "      <td>-74.00711384</td>\n",
       "      <td>237</td>\n",
       "      <td>E 11 St &amp; 2 Ave</td>\n",
       "      <td>40.73047309</td>\n",
       "      <td>-73.98672378</td>\n",
       "      <td>17529</td>\n",
       "      <td>Customer</td>\n",
       "      <td>\\N</td>\n",
       "      <td>0</td>\n",
       "    </tr>\n",
       "    <tr>\n",
       "      <th>6</th>\n",
       "      <td>1989</td>\n",
       "      <td>2013-11-01 00:02:00</td>\n",
       "      <td>2013-11-01 00:35:09</td>\n",
       "      <td>358</td>\n",
       "      <td>Christopher St &amp; Greenwich St</td>\n",
       "      <td>40.73291553</td>\n",
       "      <td>-74.00711384</td>\n",
       "      <td>237</td>\n",
       "      <td>E 11 St &amp; 2 Ave</td>\n",
       "      <td>40.73047309</td>\n",
       "      <td>-73.98672378</td>\n",
       "      <td>17238</td>\n",
       "      <td>Customer</td>\n",
       "      <td>\\N</td>\n",
       "      <td>0</td>\n",
       "    </tr>\n",
       "    <tr>\n",
       "      <th>7</th>\n",
       "      <td>690</td>\n",
       "      <td>2013-11-01 00:02:03</td>\n",
       "      <td>2013-11-01 00:13:33</td>\n",
       "      <td>509</td>\n",
       "      <td>9 Ave &amp; W 22 St</td>\n",
       "      <td>40.7454973</td>\n",
       "      <td>-74.00197139</td>\n",
       "      <td>546</td>\n",
       "      <td>E 30 St &amp; Park Ave S</td>\n",
       "      <td>40.74444921</td>\n",
       "      <td>-73.98303529</td>\n",
       "      <td>15892</td>\n",
       "      <td>Subscriber</td>\n",
       "      <td>1972</td>\n",
       "      <td>1</td>\n",
       "    </tr>\n",
       "    <tr>\n",
       "      <th>8</th>\n",
       "      <td>499</td>\n",
       "      <td>2013-11-01 00:02:19</td>\n",
       "      <td>2013-11-01 00:10:38</td>\n",
       "      <td>128</td>\n",
       "      <td>MacDougal St &amp; Prince St</td>\n",
       "      <td>40.72710258</td>\n",
       "      <td>-74.00297088</td>\n",
       "      <td>531</td>\n",
       "      <td>Forsyth St &amp; Broome St</td>\n",
       "      <td>40.71893904</td>\n",
       "      <td>-73.99266288</td>\n",
       "      <td>17260</td>\n",
       "      <td>Subscriber</td>\n",
       "      <td>1988</td>\n",
       "      <td>1</td>\n",
       "    </tr>\n",
       "    <tr>\n",
       "      <th>9</th>\n",
       "      <td>657</td>\n",
       "      <td>2013-11-01 00:02:22</td>\n",
       "      <td>2013-11-01 00:13:19</td>\n",
       "      <td>509</td>\n",
       "      <td>9 Ave &amp; W 22 St</td>\n",
       "      <td>40.7454973</td>\n",
       "      <td>-74.00197139</td>\n",
       "      <td>546</td>\n",
       "      <td>E 30 St &amp; Park Ave S</td>\n",
       "      <td>40.74444921</td>\n",
       "      <td>-73.98303529</td>\n",
       "      <td>19053</td>\n",
       "      <td>Subscriber</td>\n",
       "      <td>1986</td>\n",
       "      <td>1</td>\n",
       "    </tr>\n",
       "  </tbody>\n",
       "</table>\n",
       "</div>"
      ],
      "text/plain": [
       "  tripduration            starttime             stoptime start station id  \\\n",
       "0          504  2013-11-01 00:00:17  2013-11-01 00:08:41              326   \n",
       "1          747  2013-11-01 00:00:20  2013-11-01 00:12:47              375   \n",
       "2         1005  2013-11-01 00:00:30  2013-11-01 00:17:15              264   \n",
       "3          622  2013-11-01 00:01:29  2013-11-01 00:11:51              472   \n",
       "4         1454  2013-11-01 00:01:37  2013-11-01 00:25:51              293   \n",
       "5         1991  2013-11-01 00:01:53  2013-11-01 00:35:04              358   \n",
       "6         1989  2013-11-01 00:02:00  2013-11-01 00:35:09              358   \n",
       "7          690  2013-11-01 00:02:03  2013-11-01 00:13:33              509   \n",
       "8          499  2013-11-01 00:02:19  2013-11-01 00:10:38              128   \n",
       "9          657  2013-11-01 00:02:22  2013-11-01 00:13:19              509   \n",
       "\n",
       "              start station name start station latitude  \\\n",
       "0                E 11 St & 1 Ave            40.72953837   \n",
       "1        Mercer St & Bleecker St            40.72679454   \n",
       "2           Maiden Ln & Pearl St            40.70706456   \n",
       "3             E 32 St & Park Ave             40.7457121   \n",
       "4          Lafayette St & E 8 St            40.73028666   \n",
       "5  Christopher St & Greenwich St            40.73291553   \n",
       "6  Christopher St & Greenwich St            40.73291553   \n",
       "7                9 Ave & W 22 St             40.7454973   \n",
       "8       MacDougal St & Prince St            40.72710258   \n",
       "9                9 Ave & W 22 St             40.7454973   \n",
       "\n",
       "  start station longitude end station id          end station name  \\\n",
       "0            -73.98426726            349   Rivington St & Ridge St   \n",
       "1            -73.99695094            504           1 Ave & E 15 St   \n",
       "2            -74.00731853            265  Stanton St & Chrystie St   \n",
       "3            -73.98194829            174           E 25 St & 1 Ave   \n",
       "4             -73.9907647            490           8 Ave & W 33 St   \n",
       "5            -74.00711384            237           E 11 St & 2 Ave   \n",
       "6            -74.00711384            237           E 11 St & 2 Ave   \n",
       "7            -74.00197139            546      E 30 St & Park Ave S   \n",
       "8            -74.00297088            531    Forsyth St & Broome St   \n",
       "9            -74.00197139            546      E 30 St & Park Ave S   \n",
       "\n",
       "  end station latitude end station longitude bikeid    usertype birth year  \\\n",
       "0          40.71850211          -73.98329859  16393  Subscriber       1983   \n",
       "1          40.73221853          -73.98165557  18244  Subscriber       1971   \n",
       "2          40.72229346          -73.99147535  14636    Customer         \\N   \n",
       "3           40.7381765          -73.97738662  16685  Subscriber       1980   \n",
       "4            40.751551            -73.993934  18055  Subscriber       1975   \n",
       "5          40.73047309          -73.98672378  17529    Customer         \\N   \n",
       "6          40.73047309          -73.98672378  17238    Customer         \\N   \n",
       "7          40.74444921          -73.98303529  15892  Subscriber       1972   \n",
       "8          40.71893904          -73.99266288  17260  Subscriber       1988   \n",
       "9          40.74444921          -73.98303529  19053  Subscriber       1986   \n",
       "\n",
       "  gender  \n",
       "0      2  \n",
       "1      1  \n",
       "2      0  \n",
       "3      1  \n",
       "4      2  \n",
       "5      0  \n",
       "6      0  \n",
       "7      1  \n",
       "8      1  \n",
       "9      1  "
      ]
     },
     "execution_count": 7,
     "metadata": {},
     "output_type": "execute_result"
    }
   ],
   "source": [
    "display(nyCitibikeTripDF)"
   ]
  },
  {
   "cell_type": "markdown",
   "metadata": {},
   "source": [
    "Take a look at the schema with the `printSchema` method. This tells you the field name, field type, and whether the column is nullable or not (default is true)."
   ]
  },
  {
   "cell_type": "code",
   "execution_count": 8,
   "metadata": {
    "ExecuteTime": {
     "end_time": "2019-06-29T17:08:20.216461Z",
     "start_time": "2019-06-29T17:08:20.211878Z"
    }
   },
   "outputs": [
    {
     "name": "stdout",
     "output_type": "stream",
     "text": [
      "root\n",
      " |-- tripduration: string (nullable = true)\n",
      " |-- starttime: string (nullable = true)\n",
      " |-- stoptime: string (nullable = true)\n",
      " |-- start station id: string (nullable = true)\n",
      " |-- start station name: string (nullable = true)\n",
      " |-- start station latitude: string (nullable = true)\n",
      " |-- start station longitude: string (nullable = true)\n",
      " |-- end station id: string (nullable = true)\n",
      " |-- end station name: string (nullable = true)\n",
      " |-- end station latitude: string (nullable = true)\n",
      " |-- end station longitude: string (nullable = true)\n",
      " |-- bikeid: string (nullable = true)\n",
      " |-- usertype: string (nullable = true)\n",
      " |-- birth year: string (nullable = true)\n",
      " |-- gender: string (nullable = true)\n",
      "\n"
     ]
    }
   ],
   "source": [
    "nyCitibikeTripDF.printSchema()"
   ]
  },
  {
   "cell_type": "markdown",
   "metadata": {},
   "source": [
    "Answer the following question:\n",
    "> According to our data, which women were born after 1990?\n",
    "\n",
    "Use the DataFrame `select` and `filter` methods."
   ]
  },
  {
   "cell_type": "code",
   "execution_count": 9,
   "metadata": {
    "ExecuteTime": {
     "end_time": "2019-06-29T17:08:20.622814Z",
     "start_time": "2019-06-29T17:08:20.218638Z"
    }
   },
   "outputs": [
    {
     "data": {
      "text/html": [
       "<div>\n",
       "<style scoped>\n",
       "    .dataframe tbody tr th:only-of-type {\n",
       "        vertical-align: middle;\n",
       "    }\n",
       "\n",
       "    .dataframe tbody tr th {\n",
       "        vertical-align: top;\n",
       "    }\n",
       "\n",
       "    .dataframe thead th {\n",
       "        text-align: right;\n",
       "    }\n",
       "</style>\n",
       "<table border=\"1\" class=\"dataframe\">\n",
       "  <thead>\n",
       "    <tr style=\"text-align: right;\">\n",
       "      <th></th>\n",
       "      <th>tripduration</th>\n",
       "      <th>starttime</th>\n",
       "      <th>stoptime</th>\n",
       "      <th>start station latitude</th>\n",
       "      <th>start station longitude</th>\n",
       "      <th>end station latitude</th>\n",
       "      <th>end station longitude</th>\n",
       "      <th>bikeid</th>\n",
       "      <th>usertype</th>\n",
       "      <th>gender</th>\n",
       "    </tr>\n",
       "  </thead>\n",
       "  <tbody>\n",
       "    <tr>\n",
       "      <th>0</th>\n",
       "      <td>1005</td>\n",
       "      <td>2013-11-01 00:00:30</td>\n",
       "      <td>2013-11-01 00:17:15</td>\n",
       "      <td>40.70706456</td>\n",
       "      <td>-74.00731853</td>\n",
       "      <td>40.72229346</td>\n",
       "      <td>-73.99147535</td>\n",
       "      <td>14636</td>\n",
       "      <td>Customer</td>\n",
       "      <td>0</td>\n",
       "    </tr>\n",
       "    <tr>\n",
       "      <th>1</th>\n",
       "      <td>1991</td>\n",
       "      <td>2013-11-01 00:01:53</td>\n",
       "      <td>2013-11-01 00:35:04</td>\n",
       "      <td>40.73291553</td>\n",
       "      <td>-74.00711384</td>\n",
       "      <td>40.73047309</td>\n",
       "      <td>-73.98672378</td>\n",
       "      <td>17529</td>\n",
       "      <td>Customer</td>\n",
       "      <td>0</td>\n",
       "    </tr>\n",
       "    <tr>\n",
       "      <th>2</th>\n",
       "      <td>1989</td>\n",
       "      <td>2013-11-01 00:02:00</td>\n",
       "      <td>2013-11-01 00:35:09</td>\n",
       "      <td>40.73291553</td>\n",
       "      <td>-74.00711384</td>\n",
       "      <td>40.73047309</td>\n",
       "      <td>-73.98672378</td>\n",
       "      <td>17238</td>\n",
       "      <td>Customer</td>\n",
       "      <td>0</td>\n",
       "    </tr>\n",
       "    <tr>\n",
       "      <th>3</th>\n",
       "      <td>421</td>\n",
       "      <td>2013-11-01 00:06:14</td>\n",
       "      <td>2013-11-01 00:13:15</td>\n",
       "      <td>40.736502</td>\n",
       "      <td>-73.97809472</td>\n",
       "      <td>40.74025878</td>\n",
       "      <td>-73.98409214</td>\n",
       "      <td>17732</td>\n",
       "      <td>Customer</td>\n",
       "      <td>0</td>\n",
       "    </tr>\n",
       "    <tr>\n",
       "      <th>4</th>\n",
       "      <td>2002</td>\n",
       "      <td>2013-11-01 00:09:09</td>\n",
       "      <td>2013-11-01 00:42:31</td>\n",
       "      <td>40.71286844</td>\n",
       "      <td>-73.95698119</td>\n",
       "      <td>40.744219</td>\n",
       "      <td>-73.97121214</td>\n",
       "      <td>18157</td>\n",
       "      <td>Customer</td>\n",
       "      <td>0</td>\n",
       "    </tr>\n",
       "    <tr>\n",
       "      <th>5</th>\n",
       "      <td>370</td>\n",
       "      <td>2013-11-01 00:18:55</td>\n",
       "      <td>2013-11-01 00:25:05</td>\n",
       "      <td>40.73912601</td>\n",
       "      <td>-73.97973776</td>\n",
       "      <td>40.72955361</td>\n",
       "      <td>-73.98057249</td>\n",
       "      <td>19969</td>\n",
       "      <td>Customer</td>\n",
       "      <td>0</td>\n",
       "    </tr>\n",
       "    <tr>\n",
       "      <th>6</th>\n",
       "      <td>1667</td>\n",
       "      <td>2013-11-01 00:20:00</td>\n",
       "      <td>2013-11-01 00:47:47</td>\n",
       "      <td>40.70277159</td>\n",
       "      <td>-73.99383605</td>\n",
       "      <td>40.70277159</td>\n",
       "      <td>-73.99383605</td>\n",
       "      <td>20318</td>\n",
       "      <td>Customer</td>\n",
       "      <td>0</td>\n",
       "    </tr>\n",
       "    <tr>\n",
       "      <th>7</th>\n",
       "      <td>1577</td>\n",
       "      <td>2013-11-01 00:20:31</td>\n",
       "      <td>2013-11-01 00:46:48</td>\n",
       "      <td>40.70277159</td>\n",
       "      <td>-73.99383605</td>\n",
       "      <td>40.70277159</td>\n",
       "      <td>-73.99383605</td>\n",
       "      <td>17391</td>\n",
       "      <td>Customer</td>\n",
       "      <td>0</td>\n",
       "    </tr>\n",
       "    <tr>\n",
       "      <th>8</th>\n",
       "      <td>1345</td>\n",
       "      <td>2013-11-01 00:41:05</td>\n",
       "      <td>2013-11-01 01:03:30</td>\n",
       "      <td>40.72779126</td>\n",
       "      <td>-73.98564945</td>\n",
       "      <td>40.69839895</td>\n",
       "      <td>-73.98068914</td>\n",
       "      <td>15054</td>\n",
       "      <td>Customer</td>\n",
       "      <td>0</td>\n",
       "    </tr>\n",
       "    <tr>\n",
       "      <th>9</th>\n",
       "      <td>258</td>\n",
       "      <td>2013-11-01 00:43:07</td>\n",
       "      <td>2013-11-01 00:47:25</td>\n",
       "      <td>40.73038599</td>\n",
       "      <td>-74.00214988</td>\n",
       "      <td>40.73401143</td>\n",
       "      <td>-74.00293877</td>\n",
       "      <td>19857</td>\n",
       "      <td>Customer</td>\n",
       "      <td>0</td>\n",
       "    </tr>\n",
       "  </tbody>\n",
       "</table>\n",
       "</div>"
      ],
      "text/plain": [
       "  tripduration            starttime             stoptime  \\\n",
       "0         1005  2013-11-01 00:00:30  2013-11-01 00:17:15   \n",
       "1         1991  2013-11-01 00:01:53  2013-11-01 00:35:04   \n",
       "2         1989  2013-11-01 00:02:00  2013-11-01 00:35:09   \n",
       "3          421  2013-11-01 00:06:14  2013-11-01 00:13:15   \n",
       "4         2002  2013-11-01 00:09:09  2013-11-01 00:42:31   \n",
       "5          370  2013-11-01 00:18:55  2013-11-01 00:25:05   \n",
       "6         1667  2013-11-01 00:20:00  2013-11-01 00:47:47   \n",
       "7         1577  2013-11-01 00:20:31  2013-11-01 00:46:48   \n",
       "8         1345  2013-11-01 00:41:05  2013-11-01 01:03:30   \n",
       "9          258  2013-11-01 00:43:07  2013-11-01 00:47:25   \n",
       "\n",
       "  start station latitude start station longitude end station latitude  \\\n",
       "0            40.70706456            -74.00731853          40.72229346   \n",
       "1            40.73291553            -74.00711384          40.73047309   \n",
       "2            40.73291553            -74.00711384          40.73047309   \n",
       "3              40.736502            -73.97809472          40.74025878   \n",
       "4            40.71286844            -73.95698119            40.744219   \n",
       "5            40.73912601            -73.97973776          40.72955361   \n",
       "6            40.70277159            -73.99383605          40.70277159   \n",
       "7            40.70277159            -73.99383605          40.70277159   \n",
       "8            40.72779126            -73.98564945          40.69839895   \n",
       "9            40.73038599            -74.00214988          40.73401143   \n",
       "\n",
       "  end station longitude bikeid  usertype gender  \n",
       "0          -73.99147535  14636  Customer      0  \n",
       "1          -73.98672378  17529  Customer      0  \n",
       "2          -73.98672378  17238  Customer      0  \n",
       "3          -73.98409214  17732  Customer      0  \n",
       "4          -73.97121214  18157  Customer      0  \n",
       "5          -73.98057249  19969  Customer      0  \n",
       "6          -73.99383605  20318  Customer      0  \n",
       "7          -73.99383605  17391  Customer      0  \n",
       "8          -73.98068914  15054  Customer      0  \n",
       "9          -74.00293877  19857  Customer      0  "
      ]
     },
     "execution_count": 9,
     "metadata": {},
     "output_type": "execute_result"
    }
   ],
   "source": [
    "from pyspark.sql.functions import year\n",
    "riderDF = (nyCitibikeTripDF \n",
    "    .select('tripduration', 'starttime', 'stoptime', 'start station latitude','start station longitude', 'end station latitude','end station longitude', 'bikeid', 'usertype', 'gender')\n",
    "    .filter(\"usertype = 'Customer'\")\n",
    ")\n",
    "display(riderDF)"
   ]
  },
  {
   "cell_type": "code",
   "execution_count": 10,
   "metadata": {
    "ExecuteTime": {
     "end_time": "2019-06-29T17:08:23.355207Z",
     "start_time": "2019-06-29T17:08:20.624461Z"
    }
   },
   "outputs": [
    {
     "data": {
      "text/plain": [
       "680911"
      ]
     },
     "execution_count": 10,
     "metadata": {},
     "output_type": "execute_result"
    }
   ],
   "source": [
    "riderDF.count()"
   ]
  },
  {
   "cell_type": "markdown",
   "metadata": {},
   "source": [
    "### Most Used Bikes"
   ]
  },
  {
   "cell_type": "code",
   "execution_count": 11,
   "metadata": {
    "ExecuteTime": {
     "end_time": "2019-06-29T17:08:23.378690Z",
     "start_time": "2019-06-29T17:08:23.356810Z"
    }
   },
   "outputs": [],
   "source": [
    "mostUsedBikesDF = riderDF.groupBy('bikeid').agg(F.count(F.col('usertype')).alias('userCount'))"
   ]
  },
  {
   "cell_type": "code",
   "execution_count": 12,
   "metadata": {
    "ExecuteTime": {
     "end_time": "2019-06-29T17:08:26.336228Z",
     "start_time": "2019-06-29T17:08:23.381214Z"
    }
   },
   "outputs": [
    {
     "data": {
      "text/html": [
       "<div>\n",
       "<style scoped>\n",
       "    .dataframe tbody tr th:only-of-type {\n",
       "        vertical-align: middle;\n",
       "    }\n",
       "\n",
       "    .dataframe tbody tr th {\n",
       "        vertical-align: top;\n",
       "    }\n",
       "\n",
       "    .dataframe thead th {\n",
       "        text-align: right;\n",
       "    }\n",
       "</style>\n",
       "<table border=\"1\" class=\"dataframe\">\n",
       "  <thead>\n",
       "    <tr style=\"text-align: right;\">\n",
       "      <th></th>\n",
       "      <th>bikeid</th>\n",
       "      <th>userCount</th>\n",
       "    </tr>\n",
       "  </thead>\n",
       "  <tbody>\n",
       "    <tr>\n",
       "      <th>0</th>\n",
       "      <td>18333</td>\n",
       "      <td>136</td>\n",
       "    </tr>\n",
       "    <tr>\n",
       "      <th>1</th>\n",
       "      <td>14838</td>\n",
       "      <td>150</td>\n",
       "    </tr>\n",
       "    <tr>\n",
       "      <th>2</th>\n",
       "      <td>20219</td>\n",
       "      <td>136</td>\n",
       "    </tr>\n",
       "    <tr>\n",
       "      <th>3</th>\n",
       "      <td>16974</td>\n",
       "      <td>23</td>\n",
       "    </tr>\n",
       "    <tr>\n",
       "      <th>4</th>\n",
       "      <td>15269</td>\n",
       "      <td>148</td>\n",
       "    </tr>\n",
       "    <tr>\n",
       "      <th>5</th>\n",
       "      <td>14899</td>\n",
       "      <td>112</td>\n",
       "    </tr>\n",
       "    <tr>\n",
       "      <th>6</th>\n",
       "      <td>15634</td>\n",
       "      <td>132</td>\n",
       "    </tr>\n",
       "    <tr>\n",
       "      <th>7</th>\n",
       "      <td>18314</td>\n",
       "      <td>87</td>\n",
       "    </tr>\n",
       "    <tr>\n",
       "      <th>8</th>\n",
       "      <td>19132</td>\n",
       "      <td>76</td>\n",
       "    </tr>\n",
       "    <tr>\n",
       "      <th>9</th>\n",
       "      <td>18634</td>\n",
       "      <td>127</td>\n",
       "    </tr>\n",
       "  </tbody>\n",
       "</table>\n",
       "</div>"
      ],
      "text/plain": [
       "  bikeid  userCount\n",
       "0  18333        136\n",
       "1  14838        150\n",
       "2  20219        136\n",
       "3  16974         23\n",
       "4  15269        148\n",
       "5  14899        112\n",
       "6  15634        132\n",
       "7  18314         87\n",
       "8  19132         76\n",
       "9  18634        127"
      ]
     },
     "execution_count": 12,
     "metadata": {},
     "output_type": "execute_result"
    }
   ],
   "source": [
    "display(mostUsedBikesDF)"
   ]
  },
  {
   "cell_type": "markdown",
   "metadata": {},
   "source": [
    "### Longest Trips by Time"
   ]
  },
  {
   "cell_type": "code",
   "execution_count": 13,
   "metadata": {
    "ExecuteTime": {
     "end_time": "2019-06-29T17:08:26.341047Z",
     "start_time": "2019-06-29T17:08:26.337889Z"
    }
   },
   "outputs": [
    {
     "name": "stdout",
     "output_type": "stream",
     "text": [
      "root\n",
      " |-- tripduration: string (nullable = true)\n",
      " |-- starttime: string (nullable = true)\n",
      " |-- stoptime: string (nullable = true)\n",
      " |-- start station latitude: string (nullable = true)\n",
      " |-- start station longitude: string (nullable = true)\n",
      " |-- end station latitude: string (nullable = true)\n",
      " |-- end station longitude: string (nullable = true)\n",
      " |-- bikeid: string (nullable = true)\n",
      " |-- usertype: string (nullable = true)\n",
      " |-- gender: string (nullable = true)\n",
      "\n"
     ]
    }
   ],
   "source": [
    "riderDF.printSchema()"
   ]
  },
  {
   "cell_type": "code",
   "execution_count": null,
   "metadata": {},
   "outputs": [],
   "source": []
  },
  {
   "cell_type": "code",
   "execution_count": 14,
   "metadata": {
    "ExecuteTime": {
     "end_time": "2019-06-29T17:08:26.399200Z",
     "start_time": "2019-06-29T17:08:26.342721Z"
    }
   },
   "outputs": [],
   "source": [
    "from pyspark.sql.types import TimestampType, FloatType\n",
    "\n",
    "longestTripByTimeDF = (\n",
    "    riderDF.withColumn('tripDuration', \n",
    "                      F.minute((F.unix_timestamp(F.col('stoptime')) - F.unix_timestamp(F.col('starttime')))\n",
    "                       .cast(TimestampType()))\n",
    "                      ).orderBy(F.desc('tripDuration'))\n",
    "\n",
    ")"
   ]
  },
  {
   "cell_type": "code",
   "execution_count": 15,
   "metadata": {
    "ExecuteTime": {
     "end_time": "2019-06-29T17:08:31.104032Z",
     "start_time": "2019-06-29T17:08:26.401190Z"
    },
    "scrolled": true
   },
   "outputs": [
    {
     "data": {
      "text/html": [
       "<div>\n",
       "<style scoped>\n",
       "    .dataframe tbody tr th:only-of-type {\n",
       "        vertical-align: middle;\n",
       "    }\n",
       "\n",
       "    .dataframe tbody tr th {\n",
       "        vertical-align: top;\n",
       "    }\n",
       "\n",
       "    .dataframe thead th {\n",
       "        text-align: right;\n",
       "    }\n",
       "</style>\n",
       "<table border=\"1\" class=\"dataframe\">\n",
       "  <thead>\n",
       "    <tr style=\"text-align: right;\">\n",
       "      <th></th>\n",
       "      <th>tripDuration</th>\n",
       "      <th>starttime</th>\n",
       "      <th>stoptime</th>\n",
       "      <th>start station latitude</th>\n",
       "      <th>start station longitude</th>\n",
       "      <th>end station latitude</th>\n",
       "      <th>end station longitude</th>\n",
       "      <th>bikeid</th>\n",
       "      <th>usertype</th>\n",
       "      <th>gender</th>\n",
       "    </tr>\n",
       "  </thead>\n",
       "  <tbody>\n",
       "    <tr>\n",
       "      <th>0</th>\n",
       "      <td>59</td>\n",
       "      <td>2014-01-09 13:29:36</td>\n",
       "      <td>2014-01-09 16:29:05</td>\n",
       "      <td>40.76370739</td>\n",
       "      <td>-73.9851615</td>\n",
       "      <td>40.76370739</td>\n",
       "      <td>-73.9851615</td>\n",
       "      <td>20898</td>\n",
       "      <td>Customer</td>\n",
       "      <td>0</td>\n",
       "    </tr>\n",
       "    <tr>\n",
       "      <th>1</th>\n",
       "      <td>59</td>\n",
       "      <td>2014-01-01 11:55:21</td>\n",
       "      <td>2014-01-01 12:54:35</td>\n",
       "      <td>40.69221589</td>\n",
       "      <td>-73.9842844</td>\n",
       "      <td>40.70823502</td>\n",
       "      <td>-74.00530063</td>\n",
       "      <td>17886</td>\n",
       "      <td>Customer</td>\n",
       "      <td>0</td>\n",
       "    </tr>\n",
       "    <tr>\n",
       "      <th>2</th>\n",
       "      <td>59</td>\n",
       "      <td>2014-01-02 13:18:33</td>\n",
       "      <td>2014-01-02 14:18:21</td>\n",
       "      <td>40.76590936</td>\n",
       "      <td>-73.97634151</td>\n",
       "      <td>40.76695317</td>\n",
       "      <td>-73.98169333</td>\n",
       "      <td>18506</td>\n",
       "      <td>Customer</td>\n",
       "      <td>0</td>\n",
       "    </tr>\n",
       "    <tr>\n",
       "      <th>3</th>\n",
       "      <td>59</td>\n",
       "      <td>2014-01-01 11:54:48</td>\n",
       "      <td>2014-01-01 12:54:41</td>\n",
       "      <td>40.69221589</td>\n",
       "      <td>-73.9842844</td>\n",
       "      <td>40.70823502</td>\n",
       "      <td>-74.00530063</td>\n",
       "      <td>19914</td>\n",
       "      <td>Customer</td>\n",
       "      <td>0</td>\n",
       "    </tr>\n",
       "    <tr>\n",
       "      <th>4</th>\n",
       "      <td>59</td>\n",
       "      <td>2014-01-11 16:45:08</td>\n",
       "      <td>2014-01-11 17:44:57</td>\n",
       "      <td>40.75038009</td>\n",
       "      <td>-73.98338988</td>\n",
       "      <td>40.72456089</td>\n",
       "      <td>-73.99565293</td>\n",
       "      <td>16034</td>\n",
       "      <td>Customer</td>\n",
       "      <td>0</td>\n",
       "    </tr>\n",
       "    <tr>\n",
       "      <th>5</th>\n",
       "      <td>59</td>\n",
       "      <td>2014-01-12 13:05:05</td>\n",
       "      <td>2014-01-12 14:04:13</td>\n",
       "      <td>40.76590936</td>\n",
       "      <td>-73.97634151</td>\n",
       "      <td>40.76590936</td>\n",
       "      <td>-73.97634151</td>\n",
       "      <td>19401</td>\n",
       "      <td>Customer</td>\n",
       "      <td>0</td>\n",
       "    </tr>\n",
       "    <tr>\n",
       "      <th>6</th>\n",
       "      <td>59</td>\n",
       "      <td>2014-01-12 14:42:54</td>\n",
       "      <td>2014-01-12 15:42:16</td>\n",
       "      <td>40.69794</td>\n",
       "      <td>-73.96986848</td>\n",
       "      <td>40.68317813</td>\n",
       "      <td>-73.9659641</td>\n",
       "      <td>18244</td>\n",
       "      <td>Customer</td>\n",
       "      <td>0</td>\n",
       "    </tr>\n",
       "    <tr>\n",
       "      <th>7</th>\n",
       "      <td>59</td>\n",
       "      <td>2014-01-12 15:18:11</td>\n",
       "      <td>2014-01-12 18:17:28</td>\n",
       "      <td>40.73224119</td>\n",
       "      <td>-74.00026394</td>\n",
       "      <td>40.75513557</td>\n",
       "      <td>-73.98658032</td>\n",
       "      <td>19874</td>\n",
       "      <td>Customer</td>\n",
       "      <td>0</td>\n",
       "    </tr>\n",
       "    <tr>\n",
       "      <th>8</th>\n",
       "      <td>59</td>\n",
       "      <td>2014-01-15 17:26:23</td>\n",
       "      <td>2014-01-15 18:26:12</td>\n",
       "      <td>40.7454973</td>\n",
       "      <td>-74.00197139</td>\n",
       "      <td>40.74901271</td>\n",
       "      <td>-73.98848395</td>\n",
       "      <td>17610</td>\n",
       "      <td>Customer</td>\n",
       "      <td>0</td>\n",
       "    </tr>\n",
       "    <tr>\n",
       "      <th>9</th>\n",
       "      <td>59</td>\n",
       "      <td>2014-01-15 17:48:49</td>\n",
       "      <td>2014-01-15 18:48:02</td>\n",
       "      <td>40.76590936</td>\n",
       "      <td>-73.97634151</td>\n",
       "      <td>40.76590936</td>\n",
       "      <td>-73.97634151</td>\n",
       "      <td>18869</td>\n",
       "      <td>Customer</td>\n",
       "      <td>0</td>\n",
       "    </tr>\n",
       "  </tbody>\n",
       "</table>\n",
       "</div>"
      ],
      "text/plain": [
       "   tripDuration            starttime             stoptime  \\\n",
       "0            59  2014-01-09 13:29:36  2014-01-09 16:29:05   \n",
       "1            59  2014-01-01 11:55:21  2014-01-01 12:54:35   \n",
       "2            59  2014-01-02 13:18:33  2014-01-02 14:18:21   \n",
       "3            59  2014-01-01 11:54:48  2014-01-01 12:54:41   \n",
       "4            59  2014-01-11 16:45:08  2014-01-11 17:44:57   \n",
       "5            59  2014-01-12 13:05:05  2014-01-12 14:04:13   \n",
       "6            59  2014-01-12 14:42:54  2014-01-12 15:42:16   \n",
       "7            59  2014-01-12 15:18:11  2014-01-12 18:17:28   \n",
       "8            59  2014-01-15 17:26:23  2014-01-15 18:26:12   \n",
       "9            59  2014-01-15 17:48:49  2014-01-15 18:48:02   \n",
       "\n",
       "  start station latitude start station longitude end station latitude  \\\n",
       "0            40.76370739             -73.9851615          40.76370739   \n",
       "1            40.69221589             -73.9842844          40.70823502   \n",
       "2            40.76590936            -73.97634151          40.76695317   \n",
       "3            40.69221589             -73.9842844          40.70823502   \n",
       "4            40.75038009            -73.98338988          40.72456089   \n",
       "5            40.76590936            -73.97634151          40.76590936   \n",
       "6               40.69794            -73.96986848          40.68317813   \n",
       "7            40.73224119            -74.00026394          40.75513557   \n",
       "8             40.7454973            -74.00197139          40.74901271   \n",
       "9            40.76590936            -73.97634151          40.76590936   \n",
       "\n",
       "  end station longitude bikeid  usertype gender  \n",
       "0           -73.9851615  20898  Customer      0  \n",
       "1          -74.00530063  17886  Customer      0  \n",
       "2          -73.98169333  18506  Customer      0  \n",
       "3          -74.00530063  19914  Customer      0  \n",
       "4          -73.99565293  16034  Customer      0  \n",
       "5          -73.97634151  19401  Customer      0  \n",
       "6           -73.9659641  18244  Customer      0  \n",
       "7          -73.98658032  19874  Customer      0  \n",
       "8          -73.98848395  17610  Customer      0  \n",
       "9          -73.97634151  18869  Customer      0  "
      ]
     },
     "execution_count": 15,
     "metadata": {},
     "output_type": "execute_result"
    }
   ],
   "source": [
    "display(longestTripByTimeDF)"
   ]
  },
  {
   "cell_type": "markdown",
   "metadata": {},
   "source": [
    "### Longest Trip by Lat/Long"
   ]
  },
  {
   "cell_type": "code",
   "execution_count": 16,
   "metadata": {
    "ExecuteTime": {
     "end_time": "2019-06-29T17:08:31.279808Z",
     "start_time": "2019-06-29T17:08:31.105817Z"
    },
    "scrolled": true
   },
   "outputs": [
    {
     "data": {
      "text/html": [
       "<div>\n",
       "<style scoped>\n",
       "    .dataframe tbody tr th:only-of-type {\n",
       "        vertical-align: middle;\n",
       "    }\n",
       "\n",
       "    .dataframe tbody tr th {\n",
       "        vertical-align: top;\n",
       "    }\n",
       "\n",
       "    .dataframe thead th {\n",
       "        text-align: right;\n",
       "    }\n",
       "</style>\n",
       "<table border=\"1\" class=\"dataframe\">\n",
       "  <thead>\n",
       "    <tr style=\"text-align: right;\">\n",
       "      <th></th>\n",
       "      <th>tripduration</th>\n",
       "      <th>starttime</th>\n",
       "      <th>stoptime</th>\n",
       "      <th>start station latitude</th>\n",
       "      <th>start station longitude</th>\n",
       "      <th>end station latitude</th>\n",
       "      <th>end station longitude</th>\n",
       "      <th>bikeid</th>\n",
       "      <th>usertype</th>\n",
       "      <th>gender</th>\n",
       "    </tr>\n",
       "  </thead>\n",
       "  <tbody>\n",
       "    <tr>\n",
       "      <th>0</th>\n",
       "      <td>1005</td>\n",
       "      <td>2013-11-01 00:00:30</td>\n",
       "      <td>2013-11-01 00:17:15</td>\n",
       "      <td>40.707066</td>\n",
       "      <td>-74.007317</td>\n",
       "      <td>40.722294</td>\n",
       "      <td>-73.991478</td>\n",
       "      <td>14636</td>\n",
       "      <td>Customer</td>\n",
       "      <td>0</td>\n",
       "    </tr>\n",
       "    <tr>\n",
       "      <th>1</th>\n",
       "      <td>1991</td>\n",
       "      <td>2013-11-01 00:01:53</td>\n",
       "      <td>2013-11-01 00:35:04</td>\n",
       "      <td>40.732914</td>\n",
       "      <td>-74.007111</td>\n",
       "      <td>40.730473</td>\n",
       "      <td>-73.986725</td>\n",
       "      <td>17529</td>\n",
       "      <td>Customer</td>\n",
       "      <td>0</td>\n",
       "    </tr>\n",
       "    <tr>\n",
       "      <th>2</th>\n",
       "      <td>1989</td>\n",
       "      <td>2013-11-01 00:02:00</td>\n",
       "      <td>2013-11-01 00:35:09</td>\n",
       "      <td>40.732914</td>\n",
       "      <td>-74.007111</td>\n",
       "      <td>40.730473</td>\n",
       "      <td>-73.986725</td>\n",
       "      <td>17238</td>\n",
       "      <td>Customer</td>\n",
       "      <td>0</td>\n",
       "    </tr>\n",
       "    <tr>\n",
       "      <th>3</th>\n",
       "      <td>421</td>\n",
       "      <td>2013-11-01 00:06:14</td>\n",
       "      <td>2013-11-01 00:13:15</td>\n",
       "      <td>40.736504</td>\n",
       "      <td>-73.978096</td>\n",
       "      <td>40.740257</td>\n",
       "      <td>-73.984093</td>\n",
       "      <td>17732</td>\n",
       "      <td>Customer</td>\n",
       "      <td>0</td>\n",
       "    </tr>\n",
       "    <tr>\n",
       "      <th>4</th>\n",
       "      <td>2002</td>\n",
       "      <td>2013-11-01 00:09:09</td>\n",
       "      <td>2013-11-01 00:42:31</td>\n",
       "      <td>40.712868</td>\n",
       "      <td>-73.956978</td>\n",
       "      <td>40.744221</td>\n",
       "      <td>-73.971214</td>\n",
       "      <td>18157</td>\n",
       "      <td>Customer</td>\n",
       "      <td>0</td>\n",
       "    </tr>\n",
       "    <tr>\n",
       "      <th>5</th>\n",
       "      <td>370</td>\n",
       "      <td>2013-11-01 00:18:55</td>\n",
       "      <td>2013-11-01 00:25:05</td>\n",
       "      <td>40.739124</td>\n",
       "      <td>-73.979736</td>\n",
       "      <td>40.729553</td>\n",
       "      <td>-73.980576</td>\n",
       "      <td>19969</td>\n",
       "      <td>Customer</td>\n",
       "      <td>0</td>\n",
       "    </tr>\n",
       "    <tr>\n",
       "      <th>6</th>\n",
       "      <td>1667</td>\n",
       "      <td>2013-11-01 00:20:00</td>\n",
       "      <td>2013-11-01 00:47:47</td>\n",
       "      <td>40.702770</td>\n",
       "      <td>-73.993835</td>\n",
       "      <td>40.702770</td>\n",
       "      <td>-73.993835</td>\n",
       "      <td>20318</td>\n",
       "      <td>Customer</td>\n",
       "      <td>0</td>\n",
       "    </tr>\n",
       "    <tr>\n",
       "      <th>7</th>\n",
       "      <td>1577</td>\n",
       "      <td>2013-11-01 00:20:31</td>\n",
       "      <td>2013-11-01 00:46:48</td>\n",
       "      <td>40.702770</td>\n",
       "      <td>-73.993835</td>\n",
       "      <td>40.702770</td>\n",
       "      <td>-73.993835</td>\n",
       "      <td>17391</td>\n",
       "      <td>Customer</td>\n",
       "      <td>0</td>\n",
       "    </tr>\n",
       "    <tr>\n",
       "      <th>8</th>\n",
       "      <td>1345</td>\n",
       "      <td>2013-11-01 00:41:05</td>\n",
       "      <td>2013-11-01 01:03:30</td>\n",
       "      <td>40.727791</td>\n",
       "      <td>-73.985649</td>\n",
       "      <td>40.698399</td>\n",
       "      <td>-73.980690</td>\n",
       "      <td>15054</td>\n",
       "      <td>Customer</td>\n",
       "      <td>0</td>\n",
       "    </tr>\n",
       "    <tr>\n",
       "      <th>9</th>\n",
       "      <td>258</td>\n",
       "      <td>2013-11-01 00:43:07</td>\n",
       "      <td>2013-11-01 00:47:25</td>\n",
       "      <td>40.730385</td>\n",
       "      <td>-74.002151</td>\n",
       "      <td>40.734013</td>\n",
       "      <td>-74.002937</td>\n",
       "      <td>19857</td>\n",
       "      <td>Customer</td>\n",
       "      <td>0</td>\n",
       "    </tr>\n",
       "  </tbody>\n",
       "</table>\n",
       "</div>"
      ],
      "text/plain": [
       "  tripduration            starttime             stoptime  \\\n",
       "0         1005  2013-11-01 00:00:30  2013-11-01 00:17:15   \n",
       "1         1991  2013-11-01 00:01:53  2013-11-01 00:35:04   \n",
       "2         1989  2013-11-01 00:02:00  2013-11-01 00:35:09   \n",
       "3          421  2013-11-01 00:06:14  2013-11-01 00:13:15   \n",
       "4         2002  2013-11-01 00:09:09  2013-11-01 00:42:31   \n",
       "5          370  2013-11-01 00:18:55  2013-11-01 00:25:05   \n",
       "6         1667  2013-11-01 00:20:00  2013-11-01 00:47:47   \n",
       "7         1577  2013-11-01 00:20:31  2013-11-01 00:46:48   \n",
       "8         1345  2013-11-01 00:41:05  2013-11-01 01:03:30   \n",
       "9          258  2013-11-01 00:43:07  2013-11-01 00:47:25   \n",
       "\n",
       "   start station latitude  start station longitude  end station latitude  \\\n",
       "0               40.707066               -74.007317             40.722294   \n",
       "1               40.732914               -74.007111             40.730473   \n",
       "2               40.732914               -74.007111             40.730473   \n",
       "3               40.736504               -73.978096             40.740257   \n",
       "4               40.712868               -73.956978             40.744221   \n",
       "5               40.739124               -73.979736             40.729553   \n",
       "6               40.702770               -73.993835             40.702770   \n",
       "7               40.702770               -73.993835             40.702770   \n",
       "8               40.727791               -73.985649             40.698399   \n",
       "9               40.730385               -74.002151             40.734013   \n",
       "\n",
       "   end station longitude bikeid  usertype gender  \n",
       "0             -73.991478  14636  Customer      0  \n",
       "1             -73.986725  17529  Customer      0  \n",
       "2             -73.986725  17238  Customer      0  \n",
       "3             -73.984093  17732  Customer      0  \n",
       "4             -73.971214  18157  Customer      0  \n",
       "5             -73.980576  19969  Customer      0  \n",
       "6             -73.993835  20318  Customer      0  \n",
       "7             -73.993835  17391  Customer      0  \n",
       "8             -73.980690  15054  Customer      0  \n",
       "9             -74.002937  19857  Customer      0  "
      ]
     },
     "execution_count": 16,
     "metadata": {},
     "output_type": "execute_result"
    }
   ],
   "source": [
    "cleanRidersDF = (riderDF.dropna('any').select(\n",
    "    F.col('tripduration'), F.col('starttime'), F.col('stoptime'),\n",
    "    F.col('start station latitude').cast('float'),\n",
    "    F.col('start station longitude').cast('float'),\n",
    "    F.col('end station latitude').cast('float'),\n",
    "    F.col('end station longitude').cast('float'), F.col('bikeid'),\n",
    "    F.col('usertype'), F.col('gender')))\n",
    "display(cleanRidersDF)"
   ]
  },
  {
   "cell_type": "code",
   "execution_count": 17,
   "metadata": {
    "ExecuteTime": {
     "end_time": "2019-06-29T17:08:31.284348Z",
     "start_time": "2019-06-29T17:08:31.281256Z"
    }
   },
   "outputs": [
    {
     "name": "stdout",
     "output_type": "stream",
     "text": [
      "root\n",
      " |-- tripduration: string (nullable = true)\n",
      " |-- starttime: string (nullable = true)\n",
      " |-- stoptime: string (nullable = true)\n",
      " |-- start station latitude: float (nullable = true)\n",
      " |-- start station longitude: float (nullable = true)\n",
      " |-- end station latitude: float (nullable = true)\n",
      " |-- end station longitude: float (nullable = true)\n",
      " |-- bikeid: string (nullable = true)\n",
      " |-- usertype: string (nullable = true)\n",
      " |-- gender: string (nullable = true)\n",
      "\n"
     ]
    }
   ],
   "source": [
    "cleanRidersDF.printSchema()"
   ]
  },
  {
   "cell_type": "code",
   "execution_count": 18,
   "metadata": {
    "ExecuteTime": {
     "end_time": "2019-06-29T17:08:31.295221Z",
     "start_time": "2019-06-29T17:08:31.285995Z"
    }
   },
   "outputs": [],
   "source": [
    "from math import radians, cos, sin, asin, sqrt\n",
    "\n",
    "\n",
    "def get_distance(longit_a, latit_a, longit_b, latit_b):\n",
    "    # Transform to radians\n",
    "    longit_a, latit_a, longit_b, latit_b = map(\n",
    "        radians, [longit_a, latit_a, longit_b, latit_b])\n",
    "    dist_longit = longit_b - longit_a\n",
    "    dist_latit = latit_b - latit_a\n",
    "\n",
    "    # Calculate area\n",
    "    area = sin(dist_latit /\n",
    "               2)**2 + cos(latit_a) * cos(latit_b) * sin(dist_longit / 2)**2\n",
    "\n",
    "    # Calculate the central angle\n",
    "    central_angle = 2 * asin(sqrt(area))\n",
    "    radius = 6371\n",
    "\n",
    "    # Calculate Distance\n",
    "    distance = central_angle * radius\n",
    "    return abs(round(distance, 2))"
   ]
  },
  {
   "cell_type": "code",
   "execution_count": 19,
   "metadata": {
    "ExecuteTime": {
     "end_time": "2019-06-29T17:08:31.306151Z",
     "start_time": "2019-06-29T17:08:31.296566Z"
    }
   },
   "outputs": [
    {
     "data": {
      "text/plain": [
       "1.82"
      ]
     },
     "execution_count": 19,
     "metadata": {},
     "output_type": "execute_result"
    }
   ],
   "source": [
    "get_distance(40.707066, 74.007317, 40.722294, 73.991478)"
   ]
  },
  {
   "cell_type": "code",
   "execution_count": 20,
   "metadata": {
    "ExecuteTime": {
     "end_time": "2019-06-29T17:08:31.335721Z",
     "start_time": "2019-06-29T17:08:31.307623Z"
    }
   },
   "outputs": [],
   "source": [
    "getDistanceUDF = spark.udf.register(\"getDistanceUDFSQL\", get_distance, FloatType())"
   ]
  },
  {
   "cell_type": "code",
   "execution_count": 21,
   "metadata": {
    "ExecuteTime": {
     "end_time": "2019-06-29T17:08:31.364599Z",
     "start_time": "2019-06-29T17:08:31.338059Z"
    }
   },
   "outputs": [],
   "source": [
    "longestTripByLatLongDF = (\n",
    "    cleanRidersDF.withColumn('tripDistance', \n",
    "                      getDistanceUDF(F.col('start station latitude'),\n",
    "                                     F.col('start station longitude'),\n",
    "                                     F.col('end station latitude'),\n",
    "                                     F.col('end station longitude')\n",
    "                          )\n",
    "                      )\n",
    ").orderBy(F.desc('tripDistance'))"
   ]
  },
  {
   "cell_type": "code",
   "execution_count": 22,
   "metadata": {
    "ExecuteTime": {
     "end_time": "2019-06-29T17:08:37.461430Z",
     "start_time": "2019-06-29T17:08:31.366005Z"
    }
   },
   "outputs": [
    {
     "data": {
      "text/html": [
       "<div>\n",
       "<style scoped>\n",
       "    .dataframe tbody tr th:only-of-type {\n",
       "        vertical-align: middle;\n",
       "    }\n",
       "\n",
       "    .dataframe tbody tr th {\n",
       "        vertical-align: top;\n",
       "    }\n",
       "\n",
       "    .dataframe thead th {\n",
       "        text-align: right;\n",
       "    }\n",
       "</style>\n",
       "<table border=\"1\" class=\"dataframe\">\n",
       "  <thead>\n",
       "    <tr style=\"text-align: right;\">\n",
       "      <th></th>\n",
       "      <th>tripduration</th>\n",
       "      <th>starttime</th>\n",
       "      <th>stoptime</th>\n",
       "      <th>start station latitude</th>\n",
       "      <th>start station longitude</th>\n",
       "      <th>end station latitude</th>\n",
       "      <th>end station longitude</th>\n",
       "      <th>bikeid</th>\n",
       "      <th>usertype</th>\n",
       "      <th>gender</th>\n",
       "      <th>tripDistance</th>\n",
       "    </tr>\n",
       "  </thead>\n",
       "  <tbody>\n",
       "    <tr>\n",
       "      <th>0</th>\n",
       "      <td>4812</td>\n",
       "      <td>2013-10-21 17:16:23</td>\n",
       "      <td>2013-10-21 18:36:35</td>\n",
       "      <td>40.714977</td>\n",
       "      <td>-74.013016</td>\n",
       "      <td>40.680984</td>\n",
       "      <td>-73.950050</td>\n",
       "      <td>14871</td>\n",
       "      <td>Customer</td>\n",
       "      <td>0</td>\n",
       "      <td>7.08</td>\n",
       "    </tr>\n",
       "    <tr>\n",
       "      <th>1</th>\n",
       "      <td>1677</td>\n",
       "      <td>2013-08-10 22:32:02</td>\n",
       "      <td>2013-08-10 22:59:59</td>\n",
       "      <td>40.701221</td>\n",
       "      <td>-74.012344</td>\n",
       "      <td>40.680984</td>\n",
       "      <td>-73.950050</td>\n",
       "      <td>19464</td>\n",
       "      <td>Customer</td>\n",
       "      <td>0</td>\n",
       "      <td>6.95</td>\n",
       "    </tr>\n",
       "    <tr>\n",
       "      <th>2</th>\n",
       "      <td>1217</td>\n",
       "      <td>2013-07-12 18:44:44</td>\n",
       "      <td>2013-07-12 19:05:01</td>\n",
       "      <td>40.680344</td>\n",
       "      <td>-73.955772</td>\n",
       "      <td>40.708347</td>\n",
       "      <td>-74.017136</td>\n",
       "      <td>16827</td>\n",
       "      <td>Customer</td>\n",
       "      <td>0</td>\n",
       "      <td>6.88</td>\n",
       "    </tr>\n",
       "    <tr>\n",
       "      <th>3</th>\n",
       "      <td>1656</td>\n",
       "      <td>2013-07-28 16:29:40</td>\n",
       "      <td>2013-07-28 16:57:16</td>\n",
       "      <td>40.708347</td>\n",
       "      <td>-74.017136</td>\n",
       "      <td>40.680344</td>\n",
       "      <td>-73.955772</td>\n",
       "      <td>17826</td>\n",
       "      <td>Customer</td>\n",
       "      <td>0</td>\n",
       "      <td>6.88</td>\n",
       "    </tr>\n",
       "    <tr>\n",
       "      <th>4</th>\n",
       "      <td>1982</td>\n",
       "      <td>2013-07-21 18:19:00</td>\n",
       "      <td>2013-07-21 18:52:02</td>\n",
       "      <td>40.680344</td>\n",
       "      <td>-73.955772</td>\n",
       "      <td>40.708347</td>\n",
       "      <td>-74.017136</td>\n",
       "      <td>20191</td>\n",
       "      <td>Customer</td>\n",
       "      <td>0</td>\n",
       "      <td>6.88</td>\n",
       "    </tr>\n",
       "    <tr>\n",
       "      <th>5</th>\n",
       "      <td>1473</td>\n",
       "      <td>2013-09-14 13:06:18</td>\n",
       "      <td>2013-09-14 13:30:51</td>\n",
       "      <td>40.680344</td>\n",
       "      <td>-73.955772</td>\n",
       "      <td>40.708347</td>\n",
       "      <td>-74.017136</td>\n",
       "      <td>20622</td>\n",
       "      <td>Customer</td>\n",
       "      <td>0</td>\n",
       "      <td>6.88</td>\n",
       "    </tr>\n",
       "    <tr>\n",
       "      <th>6</th>\n",
       "      <td>1009</td>\n",
       "      <td>2013-08-19 15:53:03</td>\n",
       "      <td>2013-08-19 16:09:52</td>\n",
       "      <td>40.680344</td>\n",
       "      <td>-73.955772</td>\n",
       "      <td>40.715340</td>\n",
       "      <td>-74.016586</td>\n",
       "      <td>17636</td>\n",
       "      <td>Customer</td>\n",
       "      <td>0</td>\n",
       "      <td>6.85</td>\n",
       "    </tr>\n",
       "    <tr>\n",
       "      <th>7</th>\n",
       "      <td>484</td>\n",
       "      <td>2013-07-15 19:28:05</td>\n",
       "      <td>2013-07-15 19:36:09</td>\n",
       "      <td>40.705692</td>\n",
       "      <td>-74.016777</td>\n",
       "      <td>40.680344</td>\n",
       "      <td>-73.955772</td>\n",
       "      <td>17142</td>\n",
       "      <td>Customer</td>\n",
       "      <td>0</td>\n",
       "      <td>6.83</td>\n",
       "    </tr>\n",
       "    <tr>\n",
       "      <th>8</th>\n",
       "      <td>3434</td>\n",
       "      <td>2013-08-05 22:15:56</td>\n",
       "      <td>2013-08-05 23:13:10</td>\n",
       "      <td>40.720432</td>\n",
       "      <td>-74.010208</td>\n",
       "      <td>40.680984</td>\n",
       "      <td>-73.950050</td>\n",
       "      <td>19353</td>\n",
       "      <td>Customer</td>\n",
       "      <td>0</td>\n",
       "      <td>6.80</td>\n",
       "    </tr>\n",
       "    <tr>\n",
       "      <th>9</th>\n",
       "      <td>1515</td>\n",
       "      <td>2013-09-08 18:57:42</td>\n",
       "      <td>2013-09-08 19:22:57</td>\n",
       "      <td>40.711514</td>\n",
       "      <td>-74.015755</td>\n",
       "      <td>40.680344</td>\n",
       "      <td>-73.955772</td>\n",
       "      <td>15228</td>\n",
       "      <td>Customer</td>\n",
       "      <td>0</td>\n",
       "      <td>6.74</td>\n",
       "    </tr>\n",
       "  </tbody>\n",
       "</table>\n",
       "</div>"
      ],
      "text/plain": [
       "  tripduration            starttime             stoptime  \\\n",
       "0         4812  2013-10-21 17:16:23  2013-10-21 18:36:35   \n",
       "1         1677  2013-08-10 22:32:02  2013-08-10 22:59:59   \n",
       "2         1217  2013-07-12 18:44:44  2013-07-12 19:05:01   \n",
       "3         1656  2013-07-28 16:29:40  2013-07-28 16:57:16   \n",
       "4         1982  2013-07-21 18:19:00  2013-07-21 18:52:02   \n",
       "5         1473  2013-09-14 13:06:18  2013-09-14 13:30:51   \n",
       "6         1009  2013-08-19 15:53:03  2013-08-19 16:09:52   \n",
       "7          484  2013-07-15 19:28:05  2013-07-15 19:36:09   \n",
       "8         3434  2013-08-05 22:15:56  2013-08-05 23:13:10   \n",
       "9         1515  2013-09-08 18:57:42  2013-09-08 19:22:57   \n",
       "\n",
       "   start station latitude  start station longitude  end station latitude  \\\n",
       "0               40.714977               -74.013016             40.680984   \n",
       "1               40.701221               -74.012344             40.680984   \n",
       "2               40.680344               -73.955772             40.708347   \n",
       "3               40.708347               -74.017136             40.680344   \n",
       "4               40.680344               -73.955772             40.708347   \n",
       "5               40.680344               -73.955772             40.708347   \n",
       "6               40.680344               -73.955772             40.715340   \n",
       "7               40.705692               -74.016777             40.680344   \n",
       "8               40.720432               -74.010208             40.680984   \n",
       "9               40.711514               -74.015755             40.680344   \n",
       "\n",
       "   end station longitude bikeid  usertype gender  tripDistance  \n",
       "0             -73.950050  14871  Customer      0          7.08  \n",
       "1             -73.950050  19464  Customer      0          6.95  \n",
       "2             -74.017136  16827  Customer      0          6.88  \n",
       "3             -73.955772  17826  Customer      0          6.88  \n",
       "4             -74.017136  20191  Customer      0          6.88  \n",
       "5             -74.017136  20622  Customer      0          6.88  \n",
       "6             -74.016586  17636  Customer      0          6.85  \n",
       "7             -73.955772  17142  Customer      0          6.83  \n",
       "8             -73.950050  19353  Customer      0          6.80  \n",
       "9             -73.955772  15228  Customer      0          6.74  "
      ]
     },
     "execution_count": 22,
     "metadata": {},
     "output_type": "execute_result"
    }
   ],
   "source": [
    "display(longestTripByLatLongDF)"
   ]
  },
  {
   "cell_type": "markdown",
   "metadata": {},
   "source": [
    "### Visualization\n",
    "\n",
    "In this section, you'll learn how to visualize your spark dataframe using matplotlib and plotly"
   ]
  },
  {
   "cell_type": "code",
   "execution_count": 23,
   "metadata": {
    "ExecuteTime": {
     "end_time": "2019-06-29T17:08:37.471501Z",
     "start_time": "2019-06-29T17:08:37.464604Z"
    }
   },
   "outputs": [
    {
     "name": "stdout",
     "output_type": "stream",
     "text": [
      "User Guide: https://github.com/keplergl/kepler.gl/blob/master/docs/keplergl-jupyter/user-guide.md\n"
     ]
    }
   ],
   "source": [
    "kepler_map = keplergl.KeplerGl(height=800)"
   ]
  },
  {
   "cell_type": "code",
   "execution_count": 24,
   "metadata": {
    "ExecuteTime": {
     "end_time": "2019-06-29T17:08:37.481461Z",
     "start_time": "2019-06-29T17:08:37.474193Z"
    }
   },
   "outputs": [
    {
     "data": {
      "application/vnd.jupyter.widget-view+json": {
       "model_id": "907df9fd317a47d1b837bcc9deeea4d4",
       "version_major": 2,
       "version_minor": 0
      },
      "text/plain": [
       "KeplerGl(height=800)"
      ]
     },
     "metadata": {},
     "output_type": "display_data"
    }
   ],
   "source": [
    "kepler_map"
   ]
  },
  {
   "cell_type": "code",
   "execution_count": 25,
   "metadata": {
    "ExecuteTime": {
     "end_time": "2019-06-29T17:08:48.551336Z",
     "start_time": "2019-06-29T17:08:37.482778Z"
    }
   },
   "outputs": [],
   "source": [
    "cleanRidersPandasDF = cleanRidersDF.toPandas().sample(100)"
   ]
  },
  {
   "cell_type": "code",
   "execution_count": 26,
   "metadata": {
    "ExecuteTime": {
     "end_time": "2019-06-29T17:08:48.558590Z",
     "start_time": "2019-06-29T17:08:48.553092Z"
    }
   },
   "outputs": [],
   "source": [
    "start_location_gdf = (\n",
    "    geopandas.GeoDataFrame(cleanRidersPandasDF, \n",
    "                           geometry=geopandas.points_from_xy(cleanRidersPandasDF['start station latitude'], \n",
    "                                                             cleanRidersPandasDF['start station longitude']))\n",
    "\n",
    ")"
   ]
  },
  {
   "cell_type": "code",
   "execution_count": 27,
   "metadata": {
    "ExecuteTime": {
     "end_time": "2019-06-29T17:08:48.590006Z",
     "start_time": "2019-06-29T17:08:48.560224Z"
    }
   },
   "outputs": [],
   "source": [
    "kepler_map.add_data(data=start_location_gdf, name=\"Start-Locations\")"
   ]
  },
  {
   "cell_type": "code",
   "execution_count": 28,
   "metadata": {
    "ExecuteTime": {
     "end_time": "2019-06-29T17:08:48.595445Z",
     "start_time": "2019-06-29T17:08:48.591500Z"
    }
   },
   "outputs": [
    {
     "name": "stdout",
     "output_type": "stream",
     "text": [
      "Map saved to Citi-Bike-Start-to-End-Trips.html!\n"
     ]
    }
   ],
   "source": [
    "kepler_map.save_to_html(file_name='Citi-Bike-Start-to-End-Trips.html', read_only=True)"
   ]
  },
  {
   "cell_type": "code",
   "execution_count": null,
   "metadata": {},
   "outputs": [],
   "source": []
  }
 ],
 "metadata": {
  "hide_input": false,
  "kernelspec": {
   "display_name": "Python 3",
   "language": "python",
   "name": "python3"
  },
  "language_info": {
   "codemirror_mode": {
    "name": "ipython",
    "version": 3
   },
   "file_extension": ".py",
   "mimetype": "text/x-python",
   "name": "python",
   "nbconvert_exporter": "python",
   "pygments_lexer": "ipython3",
   "version": "3.7.3"
  },
  "toc": {
   "base_numbering": 1,
   "nav_menu": {},
   "number_sections": true,
   "sideBar": true,
   "skip_h1_title": false,
   "title_cell": "Table of Contents",
   "title_sidebar": "Contents",
   "toc_cell": false,
   "toc_position": {},
   "toc_section_display": true,
   "toc_window_display": false
  },
  "varInspector": {
   "cols": {
    "lenName": 16,
    "lenType": 16,
    "lenVar": 40
   },
   "kernels_config": {
    "python": {
     "delete_cmd_postfix": "",
     "delete_cmd_prefix": "del ",
     "library": "var_list.py",
     "varRefreshCmd": "print(var_dic_list())"
    },
    "r": {
     "delete_cmd_postfix": ") ",
     "delete_cmd_prefix": "rm(",
     "library": "var_list.r",
     "varRefreshCmd": "cat(var_dic_list()) "
    }
   },
   "types_to_exclude": [
    "module",
    "function",
    "builtin_function_or_method",
    "instance",
    "_Feature"
   ],
   "window_display": false
  }
 },
 "nbformat": 4,
 "nbformat_minor": 2
}
