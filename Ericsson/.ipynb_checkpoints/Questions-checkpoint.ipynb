{
 "cells": [
  {
   "cell_type": "code",
   "execution_count": 1,
   "metadata": {},
   "outputs": [
    {
     "name": "stdout",
     "output_type": "stream",
     "text": [
      "Welcome to\r\n",
      "      ____              __\r\n",
      "     / __/__  ___ _____/ /__\r\n",
      "    _\\ \\/ _ \\/ _ `/ __/  '_/\r\n",
      "   /___/ .__/\\_,_/_/ /_/\\_\\   version 2.4.3\r\n",
      "      /_/\r\n",
      "                        \r\n",
      "Using Scala version 2.11.12, OpenJDK 64-Bit Server VM, 1.8.0_212\r\n",
      "Branch \r\n",
      "Compiled by user  on 2019-05-01T05:08:38Z\r\n",
      "Revision \r\n",
      "Url \r\n",
      "Type --help for more information.\r\n"
     ]
    }
   ],
   "source": [
    "!pyspark --version"
   ]
  },
  {
   "cell_type": "code",
   "execution_count": 2,
   "metadata": {},
   "outputs": [],
   "source": [
    "from pyspark.sql import functions as F\n",
    "\n",
    "def display(df, limit=10):\n",
    "    return df.limit(limit).toPandas()"
   ]
  },
  {
   "cell_type": "code",
   "execution_count": 1,
   "metadata": {},
   "outputs": [],
   "source": [
    "def doLookUp():\n",
    "    path = \"test/tmp/gaia-spark-test/file*.txt\"\n",
    "    path_lookup = \"test/tmp/gaia-spark-test/ip-lookups.txt\"\n",
    "    save_path = \"test/tmp/gaia-spark-test/output\"\n",
    "\n",
    "    # Read all the files in path -> test/tmp/gaia-spark-test/file*.txt\n",
    "    filesDF =  spark.read.format('csv').option('header', 'false').load(path) \\\n",
    "                    .withColumnRenamed('_c0', 'uid') \\\n",
    "                    .withColumnRenamed('_c1', 'ip')\n",
    "    total_records = filesDF.count()\n",
    "    \n",
    "    # Read the lookup file from path -> test/tmp/gaia-spark-test/ip-lookups.txt\n",
    "    lookupDF = spark.read.format('csv').option('header', 'false').load(path_lookup) \\\n",
    "                    .withColumnRenamed('_c0', 'ip_lookup') \\\n",
    "                    .withColumnRenamed('_c1', 'domain_name')\n",
    "    \n",
    "    outDF = filesDF.join((lookupDF), filesDF.ip == lookupDF.ip_lookup).drop('ip', 'ip_lookup')\n",
    "    \n",
    "    # Save the output to output.txt\n",
    "    outDF.repartition(1).write.format('csv').option('header', 'false').mode('append').save(save_path)\n",
    "#     outDF.repartition(1).write.save(save_path)\n",
    "    \n",
    "    failed_lookups = (total_records - outDF.count())\n",
    "    \n",
    "    failed_parse = (total_records - filesDF.dropna('any').count())\n",
    "    \n",
    "    return total_records, failed_lookups, failed_parse\n",
    "    "
   ]
  },
  {
   "cell_type": "code",
   "execution_count": 6,
   "metadata": {},
   "outputs": [],
   "source": [
    "total, failed_lookup, unparsed = doLookUp()"
   ]
  },
  {
   "cell_type": "code",
   "execution_count": 7,
   "metadata": {},
   "outputs": [
    {
     "name": "stdout",
     "output_type": "stream",
     "text": [
      "8192 7 2\n"
     ]
    }
   ],
   "source": [
    "print(total, failed_lookup, unparsed)"
   ]
  },
  {
   "cell_type": "code",
   "execution_count": null,
   "metadata": {},
   "outputs": [],
   "source": []
  }
 ],
 "metadata": {
  "kernelspec": {
   "display_name": "Python 3",
   "language": "python",
   "name": "python3"
  },
  "language_info": {
   "codemirror_mode": {
    "name": "ipython",
    "version": 3
   },
   "file_extension": ".py",
   "mimetype": "text/x-python",
   "name": "python",
   "nbconvert_exporter": "python",
   "pygments_lexer": "ipython3",
   "version": "3.7.3"
  }
 },
 "nbformat": 4,
 "nbformat_minor": 2
}
